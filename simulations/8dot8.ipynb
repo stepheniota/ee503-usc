{
 "cells": [
  {
   "cell_type": "code",
   "execution_count": 1,
   "id": "0d445b63-6d76-4840-9c54-c86b1dcd770d",
   "metadata": {},
   "outputs": [],
   "source": [
    "import numpy as np\n",
    "import matplotlib.pyplot as plt\n",
    "import seaborn as sns"
   ]
  },
  {
   "cell_type": "code",
   "execution_count": 2,
   "id": "6879c750-30ff-4901-a821-3e8e349a62e9",
   "metadata": {},
   "outputs": [],
   "source": [
    "sns.set_context('notebook', font_scale=1.5, rc={'lines.linewidth': 3})\n",
    "sns.set_style('ticks')"
   ]
  },
  {
   "cell_type": "code",
   "execution_count": 3,
   "id": "6a68c810-d838-4f4a-b38a-60a9bbe8dad7",
   "metadata": {},
   "outputs": [],
   "source": [
    "rng = np.random.default_rng(seed=503)"
   ]
  },
  {
   "cell_type": "markdown",
   "id": "141c8227-0a41-49b6-918b-c03a90736688",
   "metadata": {},
   "source": [
    "# simulation problem"
   ]
  },
  {
   "cell_type": "markdown",
   "id": "cda02f4a-5d7c-4f01-8c60-106396c8655c",
   "metadata": {},
   "source": [
    "Suppose that electrical shocks occur according to a Poisson process with rate $\\lambda = 0.25$ per hour. Each shock may cause a certain system to fail. We know that the system can tolerate an average of $100$ electrical shocks. We start observing a newly replaced system at $t = 0$."
   ]
  },
  {
   "cell_type": "markdown",
   "id": "28192318-2d65-4f34-9007-98d34aceebd5",
   "metadata": {},
   "source": [
    "## part (a)\n",
    "\n",
    "What is the expected time until the 100th shock occurs?"
   ]
  },
  {
   "cell_type": "code",
   "execution_count": 4,
   "id": "0b630581-b244-4667-8696-f7349e3360ea",
   "metadata": {},
   "outputs": [
    {
     "name": "stdout",
     "output_type": "stream",
     "text": [
      "expected_time = 400\n"
     ]
    }
   ],
   "source": [
    "expected_time = 100 * 4\n",
    "print(f'{expected_time = }')"
   ]
  },
  {
   "cell_type": "markdown",
   "id": "0068fc1e-97f0-4d03-a78e-aa1fb155ffc6",
   "metadata": {},
   "source": [
    "## part (b)\n",
    "\n",
    "Create 100 i.i.d. exponential variables with rate $\\lambda$."
   ]
  },
  {
   "cell_type": "code",
   "execution_count": 5,
   "id": "c51e41a9-6813-452f-8022-90c145bdec92",
   "metadata": {},
   "outputs": [],
   "source": [
    "lambd = 0.25\n",
    "rvs = rng.exponential(scale=1/lambd, size=100)"
   ]
  },
  {
   "cell_type": "markdown",
   "id": "01546d2e-a5f0-4097-b7ae-b99ab478f7cf",
   "metadata": {},
   "source": [
    "## part (c)\n",
    "\n",
    "Add them together. This value (call it $t_1$) represents one instance of the Poisson process until the 100th shock occurs."
   ]
  },
  {
   "cell_type": "code",
   "execution_count": 6,
   "id": "6168bf98-799c-4897-8981-3076a8ddec52",
   "metadata": {},
   "outputs": [
    {
     "name": "stdout",
     "output_type": "stream",
     "text": [
      "t_1=413.58\n"
     ]
    }
   ],
   "source": [
    "t_1 = sum(rvs)\n",
    "print(f'{t_1=:0.2f}')"
   ]
  },
  {
   "cell_type": "markdown",
   "id": "4e1d8a13-5097-4e71-8dc8-bf726ea953f4",
   "metadata": {},
   "source": [
    "## part (d)\n",
    "\n",
    "Repeat part (c) $n$ times for different values of $n$ to create other instances of the Poisson process.\n",
    "Plot the sample mean $\\frac{\\sum_i^nt_i}{n}$ vs $n$."
   ]
  },
  {
   "cell_type": "code",
   "execution_count": 7,
   "id": "ff8d4d37-297e-403f-9dd4-4da2a4c28901",
   "metadata": {},
   "outputs": [],
   "source": [
    "n_range = np.arange(1, 1000)\n",
    "samples = [0 for _ in n_range]\n",
    "for i, n in enumerate(n_range):\n",
    "    samples[i] = np.mean([np.sum(rng.exponential(scale=1/lambd, size=100)) for _ in np.arange(n)])"
   ]
  },
  {
   "cell_type": "code",
   "execution_count": 8,
   "id": "fd343565-04ca-4b2b-97f7-6b98af1a75bf",
   "metadata": {},
   "outputs": [
    {
     "data": {
      "image/png": "[encoded data removed]",
      "text/plain": [
       "<Figure size 432x288 with 1 Axes>"
      ]
     },
     "metadata": {},
     "output_type": "display_data"
    }
   ],
   "source": [
    "sns.lineplot(x=n_range, y=samples)\n",
    "plt.show()"
   ]
  },
  {
   "cell_type": "markdown",
   "id": "5f6dbd81-1492-4296-9fa4-1db1967baec1",
   "metadata": {},
   "source": [
    "## part(e)\n",
    "\n",
    "What is minimum value of $n$ for which the sample mean in (d) differs from the expected time in part a by at most $2\\%$ for all $n \\in \\{n,n + 1,...,n + 49\\}$, i.e. for $50$ consecutive values?"
   ]
  },
  {
   "cell_type": "code",
   "execution_count": 9,
   "id": "9fbd84f9-c049-40c0-9042-13ff6974f350",
   "metadata": {},
   "outputs": [],
   "source": [
    "def pct_dif(sample, true):\n",
    "    return 100 * np.abs(sample - true) / true"
   ]
  },
  {
   "cell_type": "code",
   "execution_count": 10,
   "id": "bef3de57-2382-403d-b123-e0985aedf658",
   "metadata": {},
   "outputs": [
    {
     "name": "stdout",
     "output_type": "stream",
     "text": [
      "The minimum value for which the sample mean differs from the expected time is n_min=99\n"
     ]
    }
   ],
   "source": [
    "n_consecutive = 0\n",
    "n_min = None\n",
    "thresh = 2  # percent\n",
    "for n, sample in enumerate(samples):\n",
    "    if pct_dif(sample, 400) <= thresh:\n",
    "        n_consecutive += 1\n",
    "        if n_min is None: n_min = n\n",
    "    else:\n",
    "        n_min = None\n",
    "        n_consecutive = 0\n",
    "    if n_consecutive == 50:\n",
    "        break\n",
    "    \n",
    "print(f'The minimum value for which the sample mean differs from the expected time is {n_min=}')"
   ]
  },
  {
   "cell_type": "code",
   "execution_count": null,
   "id": "b0400f2e-2640-4983-abcb-4ca9bafde3da",
   "metadata": {},
   "outputs": [],
   "source": []
  },
  {
   "cell_type": "code",
   "execution_count": null,
   "id": "c0097921-46f4-4fdd-aa32-59aee46df4c6",
   "metadata": {},
   "outputs": [],
   "source": []
  }
 ],
 "metadata": {
  "kernelspec": {
   "display_name": "Python 3",
   "language": "python",
   "name": "python3"
  },
  "language_info": {
   "codemirror_mode": {
    "name": "ipython",
    "version": 3
   },
   "file_extension": ".py",
   "mimetype": "text/x-python",
   "name": "python",
   "nbconvert_exporter": "python",
   "pygments_lexer": "ipython3",
   "version": "3.9.7"
  }
 },
 "nbformat": 4,
 "nbformat_minor": 5
}
