{
 "cells": [
  {
   "cell_type": "code",
   "execution_count": 1,
   "id": "51cd9b4d-8ba8-49d4-93a0-6b5921b5b511",
   "metadata": {},
   "outputs": [],
   "source": [
    "import random\n",
    "import numpy as np\n",
    "random.seed(13)"
   ]
  },
  {
   "cell_type": "markdown",
   "id": "5562320f-49e2-44e4-9bd3-6b4f86be3519",
   "metadata": {},
   "source": [
    "# Simulation problem"
   ]
  },
  {
   "cell_type": "markdown",
   "id": "8a15046a-c2e5-4b8e-9a34-51268a4fee61",
   "metadata": {},
   "source": [
    "## part (a)\n",
    "\n",
    "Use `random.expovariate` from Python's `random` library to create $n = 5000$ samples of an exponential distribution with mean $3$."
   ]
  },
  {
   "cell_type": "code",
   "execution_count": 2,
   "id": "bb6437e2-d4fe-4158-994f-0444a7038435",
   "metadata": {},
   "outputs": [
    {
     "data": {
      "text/plain": [
       "[0.8992983406700155,\n",
       " 3.4680060030756112,\n",
       " 3.4568169996912723,\n",
       " 5.678112474843981,\n",
       " 0.6163683529267504]"
      ]
     },
     "execution_count": 2,
     "metadata": {},
     "output_type": "execute_result"
    }
   ],
   "source": [
    "samples = [random.expovariate(lambd=1/3) for _ in range(5000)]\n",
    "samples[:5]"
   ]
  },
  {
   "cell_type": "markdown",
   "id": "4a68dd01-1b5d-4b84-9c38-9ca4fa02041e",
   "metadata": {},
   "source": [
    "## part(b)\n",
    "Compute the sample mean $\\bar{x}$ of the data."
   ]
  },
  {
   "cell_type": "code",
   "execution_count": 3,
   "id": "d7012310-870f-414b-a6b0-3ec932c8fa65",
   "metadata": {},
   "outputs": [
    {
     "data": {
      "text/plain": [
       "2.9574124299895033"
      ]
     },
     "execution_count": 3,
     "metadata": {},
     "output_type": "execute_result"
    }
   ],
   "source": [
    "sample_mean = np.mean(samples)\n",
    "sample_mean"
   ]
  },
  {
   "cell_type": "markdown",
   "id": "6dd131e7-2049-4752-b43e-523a38d577d1",
   "metadata": {},
   "source": [
    "## part (c)\n",
    "\n",
    "Assume that the true standard deviation $\\sigma$ for the exponential distribution is given to you. Use a confidence level of $C = 95\\%$ to compute $z^* = \\Phi^{-1}(1 - \\alpha/2)$, where $\\alpha = 1 - C/100$, and $\\Phi$ is the cdf of the std normal distribution. Build the confidence interval $I = (\\bar{x} - z^* \\frac{\\sigma}{\\sqrt{n}}, \\bar{x} + z^* \\frac{\\sigma}{\\sqrt{n}})$. Does this interval contain the true mean of the exponential distribution?"
   ]
  },
  {
   "cell_type": "code",
   "execution_count": 4,
   "id": "102ce230-d218-4b78-8ea0-43cd6021acbe",
   "metadata": {},
   "outputs": [],
   "source": [
    "n = 5000\n",
    "C = 95\n",
    "alpha = 1 - C / 100\n",
    "std_dev = 3\n",
    "z_star = 1.959963984540  # https://en.wikipedia.org/wiki/Normal_distribution#Quantile_function"
   ]
  },
  {
   "cell_type": "code",
   "execution_count": 5,
   "id": "48e62935-a23f-416a-a61d-dc61606a801a",
   "metadata": {},
   "outputs": [],
   "source": [
    "I_lo = sample_mean - z_star * std_dev / np.sqrt(n)\n",
    "I_hi = sample_mean + z_star * std_dev / np.sqrt(n)\n",
    "interval = (I_lo, I_hi)"
   ]
  },
  {
   "cell_type": "code",
   "execution_count": 6,
   "id": "456ece31-8e94-4b07-be1e-22a9cf4d9a8d",
   "metadata": {},
   "outputs": [
    {
     "name": "stdout",
     "output_type": "stream",
     "text": [
      "interval=(2.874258200528525, 3.0405666594504814)\n"
     ]
    }
   ],
   "source": [
    "print(f'{interval=}')"
   ]
  },
  {
   "cell_type": "markdown",
   "id": "96c314cf-147e-447b-8c5b-c3f61ed0c194",
   "metadata": {},
   "source": [
    "Yes, this interval contains the true mean of the exponential distribution $(3)$."
   ]
  },
  {
   "cell_type": "markdown",
   "id": "dedd588c-16d9-4102-a75d-4592a252347e",
   "metadata": {},
   "source": [
    "## part (d)\n",
    "\n",
    "Repeat a - c for 10 different sets of $n = 5000$ samples. How many of the confidence intervals contain the true mean of the exponential distribution?"
   ]
  },
  {
   "cell_type": "code",
   "execution_count": 7,
   "id": "5108ff03-5b22-4aa3-8db9-a813a4d059b8",
   "metadata": {},
   "outputs": [
    {
     "name": "stdout",
     "output_type": "stream",
     "text": [
      "trial 0: interval=(2.955375654677985, 3.121684113599941), contains_true_mean=True\n",
      "trial 1: interval=(2.937362677475092, 3.103671136397048), contains_true_mean=True\n",
      "trial 2: interval=(2.9794527402125768, 3.145761199134533), contains_true_mean=True\n",
      "trial 3: interval=(2.94873288087273, 3.1150413397946863), contains_true_mean=True\n",
      "trial 4: interval=(2.958786980343191, 3.1250954392651473), contains_true_mean=True\n",
      "trial 5: interval=(2.9069714665096553, 3.0732799254316117), contains_true_mean=True\n",
      "trial 6: interval=(2.894039290753486, 3.0603477496754423), contains_true_mean=True\n",
      "trial 7: interval=(2.8992971830158365, 3.065605641937793), contains_true_mean=True\n",
      "trial 8: interval=(2.933172924862072, 3.0994813837840285), contains_true_mean=True\n",
      "trial 9: interval=(2.848495289396312, 3.0148037483182684), contains_true_mean=True\n"
     ]
    }
   ],
   "source": [
    "for i in range(10):\n",
    "    samples = [random.expovariate(lambd=1/3) for i in range(n)]\n",
    "    sample_mean = np.mean(samples)\n",
    "    I_lo = sample_mean - z_star * std_dev / np.sqrt(n)\n",
    "    I_hi = sample_mean + z_star * std_dev / np.sqrt(n)\n",
    "    interval = (I_lo, I_hi)\n",
    "    contains_true_mean = True if 3 >= I_lo and 3 <= I_hi else False\n",
    "    print(f'trial {i}: {interval=}, {contains_true_mean=}')"
   ]
  },
  {
   "cell_type": "markdown",
   "id": "a956e3ca-8a37-49c3-a298-796afb52c01c",
   "metadata": {},
   "source": [
    "All 10 confidence intervals contained the true mean (3) of the exponential distribution."
   ]
  },
  {
   "cell_type": "code",
   "execution_count": null,
   "id": "014d6dbd-41f3-4d47-993a-a5c6601a8813",
   "metadata": {},
   "outputs": [],
   "source": []
  }
 ],
 "metadata": {
  "kernelspec": {
   "display_name": "Python 3",
   "language": "python",
   "name": "python3"
  },
  "language_info": {
   "codemirror_mode": {
    "name": "ipython",
    "version": 3
   },
   "file_extension": ".py",
   "mimetype": "text/x-python",
   "name": "python",
   "nbconvert_exporter": "python",
   "pygments_lexer": "ipython3",
   "version": "3.9.7"
  }
 },
 "nbformat": 4,
 "nbformat_minor": 5
}
