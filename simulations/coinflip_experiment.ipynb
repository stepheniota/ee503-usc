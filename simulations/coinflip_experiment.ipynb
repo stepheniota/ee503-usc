{
 "cells": [
  {
   "cell_type": "code",
   "execution_count": 1,
   "id": "66785dd2-bc67-400f-9ba4-c348cdbec459",
   "metadata": {},
   "outputs": [],
   "source": [
    "import numpy as np\n",
    "from numpy.random import default_rng\n",
    "\n",
    "import matplotlib.pyplot as plt\n",
    "import seaborn as sns"
   ]
  },
  {
   "cell_type": "code",
   "execution_count": 2,
   "id": "3b0ea54a-87d2-4b44-bfac-7708eeab252a",
   "metadata": {},
   "outputs": [],
   "source": [
    "sns.set_style(\"whitegrid\")\n",
    "sns.set_context(\"notebook\", font_scale=1.5, rc={\"lines.linewidth\": 1.5})"
   ]
  },
  {
   "cell_type": "markdown",
   "id": "c79df76f-128b-488b-933b-36cbdb108951",
   "metadata": {},
   "source": [
    "# Coin Flip Experiment\n",
    "Stephen Iota <br>\n",
    "EE 503 Probability: problem set 2, question 8 <br>\n",
    "07 September 2021 <br>"
   ]
  },
  {
   "cell_type": "markdown",
   "id": "c855dc15-e723-4867-8553-b0225239ab98",
   "metadata": {},
   "source": [
    "## Problem 8.\n",
    "\n",
    "Use `random.uniform()` to generate output [Heads, Tails] of a coin flip experiment.\n",
    "    \n",
    "    (a) Estimate the probability of heads in a fair coin flip by generating a lot of instances of experiment.\n",
    "    \n",
    "    (b) Estimate the probability of heads in a biased coin flip with bias of 0.8, and find the number of heads and tails in a random experiment.\n",
    "    \n",
    "    (c) Plot/Display estimate as a function of number of experiments (n) and argue how do you decide how many times you need to repeat the experiment to get a good estimate."
   ]
  },
  {
   "cell_type": "code",
   "execution_count": 3,
   "id": "0914b951-de00-4679-a515-793390f32d70",
   "metadata": {},
   "outputs": [],
   "source": [
    "random = default_rng()"
   ]
  },
  {
   "cell_type": "markdown",
   "id": "157257e6-781f-44c5-b071-7b0405ed0d55",
   "metadata": {},
   "source": [
    "### Part (a)\n",
    "\n",
    "We use a `random.uniform` to sample values from the interval $[0,1)$. To model the fair coin, we say any values greater than or equal to 0.5 is equivalent to flipping heads, and any values less than 0.5 are tails."
   ]
  },
  {
   "cell_type": "code",
   "execution_count": 4,
   "id": "b6ae078d-fcb2-4373-a365-3e75d6fecd91",
   "metadata": {},
   "outputs": [
    {
     "name": "stdout",
     "output_type": "stream",
     "text": [
      "Estimated probability of heads in a fair coin flip: 0.499\n"
     ]
    }
   ],
   "source": [
    "n_flips = 100_000\n",
    "p_fair = 0.5\n",
    "\n",
    "fair_coin_flips = random.uniform(low=0, high=1, size=n_flips)  # NOTE: high value is not inclusive\n",
    "fair_coin_estimate = sum(fair_coin_flips >= p_fair) / n_flips\n",
    "\n",
    "print(f'Estimated probability of heads in a fair coin flip: {fair_coin_estimate:0.3f}')"
   ]
  },
  {
   "cell_type": "markdown",
   "id": "b0c0e7f0-bc13-4e99-a102-6700fcf4e235",
   "metadata": {},
   "source": [
    "### Part (b)\n",
    "\n",
    "To model the biased coin, we say all sampled values greater than or equal to 0.2 is equivalent to flipping heads, and the rest are considered tails. "
   ]
  },
  {
   "cell_type": "code",
   "execution_count": 5,
   "id": "e41de9ad-d7ba-4c58-9b3e-8f2c57463dfc",
   "metadata": {},
   "outputs": [
    {
     "name": "stdout",
     "output_type": "stream",
     "text": [
      "Out of 100000 random experiments, we flipped 80057 heads and 19943 tails.\n",
      "This yields roughly a 80.06 % chance of rolling heads with the biased coin.\n"
     ]
    }
   ],
   "source": [
    "n_flips = 100_000\n",
    "p_bias = 1 - 0.8\n",
    "\n",
    "fair_coin_flips = random.uniform(low=0, high=1, size=n_flips)  # NOTE: high value is not inclusive\n",
    "n_heads = sum(fair_coin_flips >= p_bias)\n",
    "\n",
    "print(f'Out of {n_flips} random experiments, we flipped {n_heads} heads and {n_flips - n_heads} tails.')\n",
    "print(f'This yields roughly a {100*n_heads/n_flips:0.2f} % chance of rolling heads with the biased coin.')"
   ]
  },
  {
   "cell_type": "markdown",
   "id": "4959be2e-0aff-40ef-8d3b-cc1ed563995b",
   "metadata": {},
   "source": [
    "### Part (c)\n",
    "\n",
    "We'll now run the experiment many different times for different values of $n$, to understand how increasing experiment size can help us gain confidence in our estimate."
   ]
  },
  {
   "cell_type": "code",
   "execution_count": 6,
   "id": "a51fefee-a3c4-448c-9581-2eefc33f420e",
   "metadata": {},
   "outputs": [],
   "source": [
    "n_values = [i for i in range(100, 250_000, 5_000)]\n",
    "bias_coinflip_experiment = {}\n",
    "\n",
    "for n in n_values:\n",
    "    experiment = random.uniform(size=n)\n",
    "    bias_coinflip_experiment[f'n_heads/{n}_tosses'] = sum(i >= p_bias for i in experiment)/n"
   ]
  },
  {
   "cell_type": "code",
   "execution_count": 7,
   "id": "0e50682c-260f-4e3f-96a0-07fc1f63a146",
   "metadata": {
    "tags": []
   },
   "outputs": [
    {
     "data": {
      "image/png": "[encoded data removed]",
      "text/plain": [
       "<Figure size 432x288 with 1 Axes>"
      ]
     },
     "metadata": {},
     "output_type": "display_data"
    }
   ],
   "source": [
    "sns.lineplot(x=n_values, \n",
    "             y=bias_coinflip_experiment.values(),\n",
    "             label='biased coin')\n",
    "sns.lineplot(x=n_values,\n",
    "             y=[0.8 for i in n_values],\n",
    "             linestyle='--')\n",
    "\n",
    "plt.xlabel(r'$n$ tosses')\n",
    "plt.ylabel(r'$p_H$')\n",
    "plt.legend()\n",
    "plt.show()"
   ]
  },
  {
   "cell_type": "markdown",
   "id": "298d9b4f-d9fa-4691-a5b4-22c556f092f9",
   "metadata": {},
   "source": [
    "We argue that we get a good-enough estimate of $p_H$ when the plot above becomes ''smooth enought'' and starts to converge to a small interval of values. In this case, it appears that after 150,000 tosses $p_H$ converges to roughly 0.8."
   ]
  },
  {
   "cell_type": "code",
   "execution_count": null,
   "id": "ae4adc54-111e-4358-a929-1774610b5e12",
   "metadata": {},
   "outputs": [],
   "source": []
  }
 ],
 "metadata": {
  "kernelspec": {
   "display_name": "Python 3",
   "language": "python",
   "name": "python3"
  },
  "language_info": {
   "codemirror_mode": {
    "name": "ipython",
    "version": 3
   },
   "file_extension": ".py",
   "mimetype": "text/x-python",
   "name": "python",
   "nbconvert_exporter": "python",
   "pygments_lexer": "ipython3",
   "version": "3.9.5"
  }
 },
 "nbformat": 4,
 "nbformat_minor": 5
}
