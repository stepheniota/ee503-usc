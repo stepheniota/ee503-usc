{
 "cells": [
  {
   "cell_type": "code",
   "execution_count": 1,
   "id": "47e0f99e-d9ae-4c9b-9745-99b74a74a957",
   "metadata": {},
   "outputs": [],
   "source": [
    "# Stephen Iota\n",
    "# EE 503 Probability: problem set 2, question 8\n",
    "# 07 September 2021"
   ]
  },
  {
   "cell_type": "code",
   "execution_count": 2,
   "id": "66785dd2-bc67-400f-9ba4-c348cdbec459",
   "metadata": {},
   "outputs": [],
   "source": [
    "import numpy as np\n",
    "from numpy.random import default_rng\n",
    "\n",
    "import matplotlib.pyplot as plt\n",
    "import seaborn as sns"
   ]
  },
  {
   "cell_type": "code",
   "execution_count": 3,
   "id": "3b0ea54a-87d2-4b44-bfac-7708eeab252a",
   "metadata": {},
   "outputs": [],
   "source": [
    "sns.set_context(\"notebook\", font_scale=1.5, rc={\"lines.linewidth\": 3})\n",
    "sns.set_style(\"ticks\")"
   ]
  },
  {
   "cell_type": "markdown",
   "id": "c79df76f-128b-488b-933b-36cbdb108951",
   "metadata": {},
   "source": [
    "# Coin Flip Experiment"
   ]
  },
  {
   "cell_type": "markdown",
   "id": "c855dc15-e723-4867-8553-b0225239ab98",
   "metadata": {},
   "source": [
    "Use `random.uniform()` to generate output [Heads, Tails] of a coin flip experiment.\n",
    "    \n",
    "* (a) Estimate the probability of heads in a fair coin flip by generating a lot of instances of experiment.\n",
    "    \n",
    "* (b) Estimate the probability of heads in a biased coin flip with bias of 0.8, and find the number of heads and tails in a random experiment.\n",
    "    \n",
    "* (c) Plot/Display estimate as a function of number of experiments (n) and argue how do you decide how many times you need to repeat the experiment to get a good estimate."
   ]
  },
  {
   "cell_type": "code",
   "execution_count": 15,
   "id": "0914b951-de00-4679-a515-793390f32d70",
   "metadata": {},
   "outputs": [],
   "source": [
    "random = default_rng()"
   ]
  },
  {
   "cell_type": "markdown",
   "id": "157257e6-781f-44c5-b071-7b0405ed0d55",
   "metadata": {},
   "source": [
    "### Part (a)\n",
    "\n",
    "We use a `random.uniform` to sample values from the interval $[0,1)$. To model the fair coin, we say any values greater than or equal to 0.5 is equivalent to flipping heads, and any values less than 0.5 are tails."
   ]
  },
  {
   "cell_type": "code",
   "execution_count": 16,
   "id": "b6ae078d-fcb2-4373-a365-3e75d6fecd91",
   "metadata": {},
   "outputs": [
    {
     "name": "stdout",
     "output_type": "stream",
     "text": [
      "Estimated probability of heads in a fair coin flip: 0.501\n"
     ]
    }
   ],
   "source": [
    "n_flips = 100_000\n",
    "p_fair = 0.5\n",
    "\n",
    "fair_coin_flips = random.uniform(low=0, high=1, size=n_flips)  # NOTE: high value is not inclusive\n",
    "fair_coin_estimate = sum(fair_coin_flips >= p_fair) / n_flips\n",
    "\n",
    "print(f'Estimated probability of heads in a fair coin flip: {fair_coin_estimate:0.3f}')"
   ]
  },
  {
   "cell_type": "markdown",
   "id": "b0c0e7f0-bc13-4e99-a102-6700fcf4e235",
   "metadata": {},
   "source": [
    "### Part (b)\n",
    "\n",
    "To model the biased coin, we say all sampled values greater than or equal to 0.2 is equivalent to flipping heads, and the rest are considered tails. "
   ]
  },
  {
   "cell_type": "code",
   "execution_count": 17,
   "id": "e41de9ad-d7ba-4c58-9b3e-8f2c57463dfc",
   "metadata": {},
   "outputs": [
    {
     "name": "stdout",
     "output_type": "stream",
     "text": [
      "Out of 100000 random experiments, we flipped 79989 heads and 20011 tails.\n",
      "This yields roughly a 79.99 % chance of rolling heads with the biased coin.\n"
     ]
    }
   ],
   "source": [
    "n_flips = 100_000\n",
    "p_bias = 1 - 0.8\n",
    "\n",
    "fair_coin_flips = random.uniform(low=0, high=1, size=n_flips)  # NOTE: high value is not inclusive\n",
    "n_heads = sum(fair_coin_flips >= p_bias)\n",
    "\n",
    "print(f'Out of {n_flips} random experiments, we flipped {n_heads} heads and {n_flips - n_heads} tails.')\n",
    "print(f'This yields roughly a {100*n_heads/n_flips:0.2f} % chance of rolling heads with the biased coin.')"
   ]
  },
  {
   "cell_type": "markdown",
   "id": "4959be2e-0aff-40ef-8d3b-cc1ed563995b",
   "metadata": {},
   "source": [
    "### Part (c)\n",
    "\n",
    "We'll now run the experiment many different times for different values of $n$, to understand how increasing experiment size can help us gain confidence in our estimate."
   ]
  },
  {
   "cell_type": "code",
   "execution_count": 18,
   "id": "0fd2483e-f4c6-4e08-a76c-93ed32eb25b2",
   "metadata": {},
   "outputs": [
    {
     "data": {
      "text/plain": [
       "{'n_heads/100_tosses': 0.8,\n",
       " 'n_heads/5100_tosses': 0.8072549019607843,\n",
       " 'n_heads/10100_tosses': 0.7997029702970297,\n",
       " 'n_heads/15100_tosses': 0.7933774834437086,\n",
       " 'n_heads/20100_tosses': 0.799452736318408,\n",
       " 'n_heads/25100_tosses': 0.7937051792828685,\n",
       " 'n_heads/30100_tosses': 0.7988704318936877,\n",
       " 'n_heads/35100_tosses': 0.8,\n",
       " 'n_heads/40100_tosses': 0.7970822942643392,\n",
       " 'n_heads/45100_tosses': 0.8044345898004435,\n",
       " 'n_heads/50100_tosses': 0.799441117764471,\n",
       " 'n_heads/55100_tosses': 0.7996370235934664,\n",
       " 'n_heads/60100_tosses': 0.8024792013311148,\n",
       " 'n_heads/65100_tosses': 0.8023963133640553,\n",
       " 'n_heads/70100_tosses': 0.801169757489301,\n",
       " 'n_heads/75100_tosses': 0.8019041278295606,\n",
       " 'n_heads/80100_tosses': 0.8000873907615481,\n",
       " 'n_heads/85100_tosses': 0.8009048178613396,\n",
       " 'n_heads/90100_tosses': 0.7994672586015539,\n",
       " 'n_heads/95100_tosses': 0.7998317560462671,\n",
       " 'n_heads/100100_tosses': 0.8020379620379621,\n",
       " 'n_heads/105100_tosses': 0.8003710751665081,\n",
       " 'n_heads/110100_tosses': 0.8010354223433243,\n",
       " 'n_heads/115100_tosses': 0.800251954821894,\n",
       " 'n_heads/120100_tosses': 0.7981432139883431,\n",
       " 'n_heads/125100_tosses': 0.7999680255795364,\n",
       " 'n_heads/130100_tosses': 0.7988700999231361,\n",
       " 'n_heads/135100_tosses': 0.7979126572908957,\n",
       " 'n_heads/140100_tosses': 0.7999500356887937,\n",
       " 'n_heads/145100_tosses': 0.7986905582356996,\n",
       " 'n_heads/150100_tosses': 0.7995936042638241,\n",
       " 'n_heads/155100_tosses': 0.8007285622179239,\n",
       " 'n_heads/160100_tosses': 0.8002311055590257,\n",
       " 'n_heads/165100_tosses': 0.7985826771653544,\n",
       " 'n_heads/170100_tosses': 0.7997883597883598,\n",
       " 'n_heads/175100_tosses': 0.8007652769845802,\n",
       " 'n_heads/180100_tosses': 0.8010605219322599,\n",
       " 'n_heads/185100_tosses': 0.8011561318206375,\n",
       " 'n_heads/190100_tosses': 0.7993371909521304,\n",
       " 'n_heads/195100_tosses': 0.7988006150691953,\n",
       " 'n_heads/200100_tosses': 0.7989005497251375,\n",
       " 'n_heads/205100_tosses': 0.7986689419795222,\n",
       " 'n_heads/210100_tosses': 0.7987291765825797,\n",
       " 'n_heads/215100_tosses': 0.7986378428637843,\n",
       " 'n_heads/220100_tosses': 0.8006088141753749,\n",
       " 'n_heads/225100_tosses': 0.7994935584184807,\n",
       " 'n_heads/230100_tosses': 0.7996697088222512,\n",
       " 'n_heads/235100_tosses': 0.7996129306678009,\n",
       " 'n_heads/240100_tosses': 0.8013494377342774,\n",
       " 'n_heads/245100_tosses': 0.8011791105671154}"
      ]
     },
     "execution_count": 18,
     "metadata": {},
     "output_type": "execute_result"
    }
   ],
   "source": [
    "bias_coinflip_experiment"
   ]
  },
  {
   "cell_type": "code",
   "execution_count": 21,
   "id": "a51fefee-a3c4-448c-9581-2eefc33f420e",
   "metadata": {},
   "outputs": [],
   "source": [
    "n_values = [i for i in range(10, 250_000, 5_000)]\n",
    "bias_coinflip_experiment = {}\n",
    "\n",
    "for n in n_values:\n",
    "    experiment = random.uniform(size=n)\n",
    "    bias_coinflip_experiment[f'n_heads/{n}_tosses'] = sum(i >= p_bias for i in experiment)/n"
   ]
  },
  {
   "cell_type": "code",
   "execution_count": 22,
   "id": "0e50682c-260f-4e3f-96a0-07fc1f63a146",
   "metadata": {
    "tags": []
   },
   "outputs": [
    {
     "data": {
      "image/png": "[encoded data removed]",
      "text/plain": [
       "<Figure size 432x288 with 1 Axes>"
      ]
     },
     "metadata": {},
     "output_type": "display_data"
    }
   ],
   "source": [
    "sns.lineplot(x=n_values, \n",
    "             y=bias_coinflip_experiment.values(),\n",
    "             label='biased coin',\n",
    "             color='skyblue')\n",
    "sns.lineplot(x=n_values,\n",
    "             y=[0.8 for i in n_values],\n",
    "             linestyle='--',\n",
    "             label=r'$p=0.8$',\n",
    "             color='olive')\n",
    "\n",
    "plt.xlabel(r'$n$ tosses')\n",
    "plt.ylabel(r'$p_H$')\n",
    "plt.legend()\n",
    "plt.show()"
   ]
  },
  {
   "cell_type": "markdown",
   "id": "298d9b4f-d9fa-4691-a5b4-22c556f092f9",
   "metadata": {},
   "source": [
    "We argue that we get a good-enough estimate of $p_H$ when the plot above becomes ''smooth enought'' and starts to converge to a small interval of values. In this case, it appears that after 150,000 tosses $p_H$ converges to roughly 0.8."
   ]
  },
  {
   "cell_type": "code",
   "execution_count": null,
   "id": "ae4adc54-111e-4358-a929-1774610b5e12",
   "metadata": {},
   "outputs": [],
   "source": []
  }
 ],
 "metadata": {
  "kernelspec": {
   "display_name": "Python 3",
   "language": "python",
   "name": "python3"
  },
  "language_info": {
   "codemirror_mode": {
    "name": "ipython",
    "version": 3
   },
   "file_extension": ".py",
   "mimetype": "text/x-python",
   "name": "python",
   "nbconvert_exporter": "python",
   "pygments_lexer": "ipython3",
   "version": "3.9.7"
  }
 },
 "nbformat": 4,
 "nbformat_minor": 5
}
