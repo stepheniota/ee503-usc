{
 "cells": [
  {
   "cell_type": "code",
   "execution_count": 1,
   "id": "d8e68d23-b52f-4b61-bbee-e9e22d790826",
   "metadata": {},
   "outputs": [],
   "source": [
    "import numpy as np\n",
    "import pandas as pd\n",
    "import matplotlib.pyplot as plt\n",
    "import seaborn as sns"
   ]
  },
  {
   "cell_type": "code",
   "execution_count": 2,
   "id": "9235fbd6-84ea-4793-95bf-0680ae5da38b",
   "metadata": {},
   "outputs": [],
   "source": [
    "sns.set_context(\"notebook\", font_scale=1.5, rc={\"lines.linewidth\": 3})\n",
    "sns.set_style(\"ticks\")"
   ]
  },
  {
   "cell_type": "markdown",
   "id": "bd60f5e8-b8ad-4e30-b5e8-170a3eaa78e0",
   "metadata": {},
   "source": [
    "# Simulation problem\n",
    "\n",
    "An individual possesses $r$ umbrellas that he employs in going from his home to office, and vice versa. If he is at home (the office) in the morning (in the evening) and it is raining, then he will take an umbrella with him to the office (home), provided there is one to be taken. If it is not raining, then he never takes an umbrella. Assume that, independent of the past, it rains in the morning (in the evening) with probability $p$. Let $X_n$ be the number of umbrellas at his home at the end of the $n$th day. Then, $X_n$ defines a Markov chain. Let $r = 3$."
   ]
  },
  {
   "cell_type": "markdown",
   "id": "92dc46d7-c972-4a48-8426-5bcc4128d5cc",
   "metadata": {},
   "source": [
    "## part (a)\n",
    "\n",
    "The probability matrix $\\bf{P}$ for this Markov chain.\n",
    "$$\n",
    "\\bf{P} = \n",
    "\\begin{pmatrix}\n",
    "p(1-p) + (1-p)^2  &  p(1-p) + p^2  &  0  &  0  \\\\\n",
    "p(1-p)  &  p^2 + (1-p)^2  &  p(1-p) & 0 \\\\\n",
    "0  & p(1-p) &  p^2 + (1-p)^2  & p(1-p) \\\\ \n",
    "0  &  0  & p(1-p) &  (1-p) + p^2\n",
    "\\end{pmatrix}\n",
    "$$"
   ]
  },
  {
   "cell_type": "markdown",
   "id": "6d79a95d-7ef6-48ff-b6ef-f1b78bc1f4c9",
   "metadata": {},
   "source": [
    "## part (b)\n",
    "\n",
    "For $r=3$, confirm the limiting probabilities are given by\n",
    "$$\n",
    "\\pi_i =\n",
    "\\begin{cases}\n",
    "\\frac{q}{r+q}  &  \\text{if } i = 0 \\\\\n",
    "\\frac{1}{r+q}  &  \\text{if } i = 1,\\ldots, r\n",
    "\\end{cases}\n",
    "$$\n",
    "where $q = 1-p$."
   ]
  },
  {
   "cell_type": "markdown",
   "id": "1c479ff0-9ab5-46a5-ac65-2e37e02103ca",
   "metadata": {},
   "source": [
    "The limiting probabilities must satisfy $\\sum_i \\pi_i = 1$ and $\\pi_j = \\sum_i = \\pi_i P_{ij}$. Plugging in the given equations:\n",
    "\n",
    "$$\n",
    "\\sum_i \\pi_i = \\frac{q}{r + q} + (r)\\frac{1}{r + q} = \\frac{r + q}{r + q} = 1\n",
    "$$\n",
    "\n",
    "We confirm the limiting probabilities are valid."
   ]
  },
  {
   "cell_type": "markdown",
   "id": "ea25dca8-2edc-415c-9643-1f0eaf536420",
   "metadata": {},
   "source": [
    "## part (c)"
   ]
  },
  {
   "cell_type": "code",
   "execution_count": 3,
   "id": "0996dfb9-78a7-4a79-9f35-7271a66a1740",
   "metadata": {},
   "outputs": [],
   "source": [
    "def P_matrix(p):\n",
    "    P = np.array([\n",
    "         [p*(1-p) + (1-p)**2, p*(1-p) + p**2, 0, 0],   \n",
    "         [p*(1-p), p**2 + (1-p)**2, p*(1-p), 0],\n",
    "         [0, p*(1-p), p**2 + (1-p)**2, p*(1-p)], \n",
    "         [0,  0, p*(1-p), (1-p) + p**2]\n",
    "    ])\n",
    "    return P"
   ]
  },
  {
   "cell_type": "code",
   "execution_count": 4,
   "id": "4f0414ca-ec13-4593-b984-5f077a834b94",
   "metadata": {},
   "outputs": [],
   "source": [
    "p = 0.5\n",
    "P = P_matrix(p)\n",
    "N = range(100)\n",
    "i_0 = [0 for _ in N]\n",
    "i_1 = [0 for _ in N]\n",
    "i_2 = [0 for _ in N]\n",
    "i_3 = [0 for _ in N]\n",
    "\n",
    "for n in N:\n",
    "    P_n = np.linalg.matrix_power(P, n)\n",
    "    i_0[n] = P_n[0,2]\n",
    "    i_1[n] = P_n[1,2]\n",
    "    i_2[n] = P_n[2,2]\n",
    "    i_3[n] = P_n[3,2]"
   ]
  },
  {
   "cell_type": "code",
   "execution_count": 5,
   "id": "1ae462ea-0dcc-4e4c-8d58-d530649e3228",
   "metadata": {},
   "outputs": [
    {
     "data": {
      "image/png": "[encoded data removed]",
      "text/plain": [
       "<Figure size 432x288 with 1 Axes>"
      ]
     },
     "metadata": {},
     "output_type": "display_data"
    }
   ],
   "source": [
    "sns.lineplot(x=N, y=i_0, label=r'$i=0$')\n",
    "sns.lineplot(x=N, y=i_1, label=r'$i=1$')\n",
    "sns.lineplot(x=N, y=i_2, label=r'$i=2$')\n",
    "sns.lineplot(x=N, y=i_3, label=r'$i=3$')\n",
    "sns.lineplot(x=N, y=[1/3.5 for _ in N], label='expected')\n",
    "\n",
    "plt.xlabel(r'$n$')\n",
    "plt.ylabel(r'$P_{i2}$')\n",
    "plt.legend()\n",
    "plt.show()"
   ]
  },
  {
   "cell_type": "markdown",
   "id": "4bb4f6da-a787-4f11-9b65-b0a7661000c5",
   "metadata": {},
   "source": [
    "The $P^{(n)}_{i2}$'s converge as $n$ goes. The values converge to the limiting probability $\\pi_2 = \\frac{1}{3.5} \\approx 0.29$."
   ]
  },
  {
   "cell_type": "markdown",
   "id": "d989fad8-8112-4075-a912-b689abbdc012",
   "metadata": {},
   "source": [
    "## part (d)\n",
    "\n",
    "Repeat with $p=0.1$."
   ]
  },
  {
   "cell_type": "code",
   "execution_count": 7,
   "id": "15539683-74fb-449e-a139-97dfb1979856",
   "metadata": {},
   "outputs": [],
   "source": [
    "p = 0.1\n",
    "P = P_matrix(p)"
   ]
  },
  {
   "cell_type": "code",
   "execution_count": 8,
   "id": "13fbf41d-c5bf-47e8-8204-f81430bc3ccb",
   "metadata": {},
   "outputs": [],
   "source": [
    "N = range(100)\n",
    "i_0 = [0 for _ in N]\n",
    "i_1 = [0 for _ in N]\n",
    "i_2 = [0 for _ in N]\n",
    "i_3 = [0 for _ in N]\n",
    "\n",
    "for n in N:\n",
    "    P_n = np.linalg.matrix_power(P, n)\n",
    "    i_0[n] = P_n[0,2]\n",
    "    i_1[n] = P_n[1,2]\n",
    "    i_2[n] = P_n[2,2]\n",
    "    i_3[n] = P_n[3,2]"
   ]
  },
  {
   "cell_type": "code",
   "execution_count": 9,
   "id": "fcd391e2-c2ab-495d-82f9-6c12a6346cfe",
   "metadata": {},
   "outputs": [
    {
     "data": {
      "image/png": "[encoded data removed]",
      "text/plain": [
       "<Figure size 432x288 with 1 Axes>"
      ]
     },
     "metadata": {},
     "output_type": "display_data"
    }
   ],
   "source": [
    "sns.lineplot(x=N, y=i_0, label=r'$i=0$')\n",
    "sns.lineplot(x=N, y=i_1, label=r'$i=1$')\n",
    "sns.lineplot(x=N, y=i_2, label=r'$i=2$')\n",
    "sns.lineplot(x=N, y=i_3, label=r'$i=3$')\n",
    "\n",
    "plt.xlabel(r'$n$')\n",
    "plt.ylabel(r'$P_{i2}$')\n",
    "plt.legend()\n",
    "plt.show()"
   ]
  },
  {
   "cell_type": "markdown",
   "id": "60a267b8-df36-429c-9e43-71601003bf7e",
   "metadata": {},
   "source": [
    "All $P_{i2}$ converge in both cases, however, the case in which $p = 1/2$ converges much faster."
   ]
  },
  {
   "cell_type": "code",
   "execution_count": null,
   "id": "be5e19e5-db33-40bc-8e45-e278a97033b1",
   "metadata": {},
   "outputs": [],
   "source": []
  }
 ],
 "metadata": {
  "kernelspec": {
   "display_name": "Python 3",
   "language": "python",
   "name": "python3"
  },
  "language_info": {
   "codemirror_mode": {
    "name": "ipython",
    "version": 3
   },
   "file_extension": ".py",
   "mimetype": "text/x-python",
   "name": "python",
   "nbconvert_exporter": "python",
   "pygments_lexer": "ipython3",
   "version": "3.9.7"
  }
 },
 "nbformat": 4,
 "nbformat_minor": 5
}
